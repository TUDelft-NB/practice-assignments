{
 "cells": [
  {
   "cell_type": "markdown",
   "id": "9ca780e6-4777-4af4-a3f3-e1444e016768",
   "metadata": {},
   "source": [
    "# Workshop 1 - Implementation\n",
    "    \n",
    "In this notebook you will implement the matrix method and check it with some sanity checks."
   ]
  },
  {
   "cell_type": "markdown",
   "id": "6f99c70c",
   "metadata": {},
   "source": [
    "Our matrix method implementation is now completely stored in a local package, consisting of three classes. If you need a refresher on how to code with Classes and Objects, refer to the [section on Object Oriented Programming in the MUDE-book](https://mude.citg.tudelft.nl/2024/book/external/learn-programming/book/python/oop/classes.html), with additionally [programming assignment 1.7](https://mude.citg.tudelft.nl/2024/files/Week_1_7/PA_1_7_classy_distributions.html)."
   ]
  },
  {
   "cell_type": "code",
   "execution_count": 279,
   "id": "9c3ed629",
   "metadata": {},
   "outputs": [],
   "source": [
    "import numpy as np\n",
    "import matrixmethod as mm\n",
    "%config InlineBackend.figure_formats = ['svg']"
   ]
  },
  {
   "cell_type": "markdown",
   "id": "c31dc366-79fa-4e61-80cb-f4957cec3c5e",
   "metadata": {},
   "source": [
    "## 1. The Node class\n",
    "This class is stored in `./matrixmethod/node.py`\n",
    "\n",
    "The purpose of this class is to store node information and keep track of the total number of DOFs of the problem. Note the automatic bookkeeping we introduce in `__init__`. This simple but efficient way of keeping track of which DOFs belong to which nodes will make life much easier when we need to assemble matrices from multiple elements. The Node class doesn't need any modification.\n",
    "\n",
    "> ### Task 1.1\n",
    "> \n",
    "> To test whether you understand how the class works, create two nodes on coordinates ($0$,$0$) and ($3$,$4$) and print the string representation of both nodes. The `clear` function is called to restart the node and DOF counters. Make sure this is done whenever you start solving a new problem.\n"
   ]
  },
  {
   "cell_type": "code",
   "execution_count": 280,
   "id": "ae3d6005",
   "metadata": {},
   "outputs": [
    {
     "name": "stdout",
     "output_type": "stream",
     "text": [
      "This node has:\n",
      " - x coordinate=0,\n",
      " - z coordinate=0,\n",
      " - degrees of freedom=[0, 1, 2],\n",
      " - load vector=[0. 0. 0.]\n",
      "This node has:\n",
      " - x coordinate=3,\n",
      " - z coordinate=4,\n",
      " - degrees of freedom=[3, 4, 5],\n",
      " - load vector=[0. 0. 0.]\n"
     ]
    }
   ],
   "source": [
    "mm.Node.clear()\n",
    "\n",
    "node1 = mm.Node(0, 0)\n",
    "node2 = mm.Node(3, 4)\n",
    "    \n",
    "print(node1)\n",
    "print(node2)"
   ]
  },
  {
   "cell_type": "markdown",
   "id": "32ab4896",
   "metadata": {},
   "source": [
    "> Your output should look like this:\n",
    "> \n",
    "> ```\n",
    "> This node has:\n",
    ">  - x coordinate=0,\n",
    ">  - z coordinate=0,\n",
    ">  - degrees of freedom=[0, 1, 2],\n",
    ">  - load vector=[0. 0. 0.])\n",
    "> This node has:\n",
    ">  - x coordinate=3,\n",
    ">  - z coordinate=4,\n",
    ">  - degrees of freedom=[3, 4, 5],\n",
    ">  - load vector=[0. 0. 0.])\n",
    "> ```"
   ]
  },
  {
   "cell_type": "markdown",
   "id": "49f943d0-d056-4eb9-b1b3-50ed29ac08b6",
   "metadata": {},
   "source": [
    "## 2. The Element class\n",
    "This class is stored in `./matrixmethod/elements.py`\n",
    "\n",
    "This class keeps track of each element in the model, including:\n",
    "- Cross-section properties\n",
    "- Element orientation (for coordinate system transformations)\n",
    "- Which Nodes make up each element, and in turn (with help of the Node class) which DOFs belong to each element\n",
    "\n",
    "Apart from bookkeeping element data, the other main task of this class is to provide the element stiffness matrix in the global coordinate system (for subsequent assembly) and postprocess element-level fields. For now we keep postprocessing for next week and focus only on getting the correct stiffness matrix.\n",
    "\n",
    "Here the class describes an element combining extension and Euler-Bernoulli bending. A similar (or inherited) class could also be implemented for different element types (*e.g.* shear beam, Timoshenko beam, cable elements, etc). Here we also keep it simple by assuming elements are all arranged in a 2D plane.\n",
    "\n",
    "However, the implementation is incomplete:\n",
    "- The transformation matrix is missing in `__init__`, which is given in the [online book](https://ciem5000-2025.github.io/book/lecture1/transformations.html). Make sure you take into account that a positive $\\Delta z$ with a positive $\\Delta x$ gives a negative angle $\\alpha$. Make use of `numpy.arctan2` to return the angle between $-\\pi$ and $\\pi$, `numpy.arctan` returns an angle between $-\\cfrac{\\pi}{2}$ and $-\\cfrac{\\pi}{2}$, and therefore cannot distinguish between all four quadrants.\n",
    "- The correct stiffness matrix for this extension-bending element coordinate system is missing in `stiffness`. You can derive the stiffness matrix yourself using pen and paper, SymPy or Maple, or copy the given stiffness matrix from the [online book](https://ciem5000-2025.github.io/book/lecture1/other_elements.html).\n",
    "- We keep the functions which add a distributed load and compute the moments / displacements untouched for this week. Next week we'll implement those as well.\n",
    "\n",
    "\n",
    "> ### Task 2.1\n",
    ">\n",
    "> Add the missing pieces to the code in `./matrixmethod/elements.py`, before you perform the checks below. Do you specify your stiffness matrix in the global or local coordinate system?"
   ]
  },
  {
   "cell_type": "markdown",
   "id": "449ab260",
   "metadata": {},
   "source": [
    "Whenever you make changes to your code in the `./matrixmethod/` folder, you need to reimport those. Instead of restarting the kernel, we use some magic ipython commands. Run the cell below once. Consequently, whenever you save your changes in one of the `.py`-files, it's automatically reloaded."
   ]
  },
  {
   "cell_type": "code",
   "execution_count": 281,
   "id": "b2a9b4fe",
   "metadata": {},
   "outputs": [
    {
     "name": "stdout",
     "output_type": "stream",
     "text": [
      "The autoreload extension is already loaded. To reload it, use:\n",
      "  %reload_ext autoreload\n"
     ]
    }
   ],
   "source": [
    "%load_ext autoreload\n",
    "%autoreload 2"
   ]
  },
  {
   "cell_type": "markdown",
   "id": "97d3624e",
   "metadata": {},
   "source": [
    "> ### Task 2.2\n",
    "> \n",
    ">First, let's check the stiffness matrix for a beam which doesn't require rotation. Create a horizontal element with length $2$ and $EI=4$ and print both the transformation matrix and the stiffness matrix.\n",
    ">\n",
    "> Do the matrices match with what you'd expect?"
   ]
  },
  {
   "cell_type": "code",
   "execution_count": 282,
   "id": "077b2951",
   "metadata": {},
   "outputs": [],
   "source": [
    "mm.Node.clear()\n",
    "mm.Element.clear()"
   ]
  },
  {
   "cell_type": "code",
   "execution_count": 283,
   "id": "b16a1c0a",
   "metadata": {},
   "outputs": [
    {
     "name": "stdout",
     "output_type": "stream",
     "text": [
      "Transformation Matrix:\n",
      "[[ 1.  0.  0.  0.  0.  0.]\n",
      " [-0.  1.  0.  0.  0.  0.]\n",
      " [ 0.  0.  1.  0.  0.  0.]\n",
      " [ 0.  0.  0.  1.  0.  0.]\n",
      " [ 0.  0.  0. -0.  1.  0.]\n",
      " [ 0.  0.  0.  0.  0.  1.]]\n",
      "\n",
      "Stiffness Matrix:\n",
      "[[ 5.e+19  0.e+00  0.e+00 -5.e+19  0.e+00  0.e+00]\n",
      " [ 0.e+00  6.e+00  6.e+00  0.e+00  0.e+00  0.e+00]\n",
      " [ 0.e+00  6.e+00  8.e+00  0.e+00  0.e+00  0.e+00]\n",
      " [-5.e+19  0.e+00  0.e+00  5.e+19  0.e+00  0.e+00]\n",
      " [ 0.e+00  0.e+00  0.e+00  0.e+00  6.e+00 -6.e+00]\n",
      " [ 0.e+00  0.e+00  0.e+00  0.e+00 -6.e+00  8.e+00]]\n"
     ]
    }
   ],
   "source": [
    "node1 = mm.Node(0, 0)\n",
    "node2 = mm.Node(2, 0)\n",
    "\n",
    "elem = mm.Element(node1, node2)\n",
    "\n",
    "section = {}\n",
    "section['EI'] = 4  # Set the flexural stiffness\n",
    "elem.set_section(section)\n",
    "\n",
    "print(\"Transformation Matrix:\")\n",
    "print(elem.T)\n",
    "\n",
    "print(\"\\nStiffness Matrix:\")\n",
    "print(elem.stiffness())"
   ]
  },
  {
   "cell_type": "markdown",
   "id": "008db7ef",
   "metadata": {},
   "source": [
    "> ### Task 2.3\n",
    "> Now, create a vertical element with length $2$ and $EI=4$ and print the transformation and stiffness matrix.\n",
    "> \n",
    "> Do the matrices match with what you'd expect?"
   ]
  },
  {
   "cell_type": "code",
   "execution_count": 284,
   "id": "c047cded",
   "metadata": {},
   "outputs": [
    {
     "name": "stdout",
     "output_type": "stream",
     "text": [
      "Transformation Matrix:\n",
      "[[ 6.123234e-17  1.000000e+00  0.000000e+00  0.000000e+00  0.000000e+00\n",
      "   0.000000e+00]\n",
      " [-1.000000e+00  6.123234e-17  0.000000e+00  0.000000e+00  0.000000e+00\n",
      "   0.000000e+00]\n",
      " [ 0.000000e+00  0.000000e+00  1.000000e+00  0.000000e+00  0.000000e+00\n",
      "   0.000000e+00]\n",
      " [ 0.000000e+00  0.000000e+00  0.000000e+00  6.123234e-17  1.000000e+00\n",
      "   0.000000e+00]\n",
      " [ 0.000000e+00  0.000000e+00  0.000000e+00 -1.000000e+00  6.123234e-17\n",
      "   0.000000e+00]\n",
      " [ 0.000000e+00  0.000000e+00  0.000000e+00  0.000000e+00  0.000000e+00\n",
      "   1.000000e+00]]\n",
      "\n",
      "Stiffness Matrix:\n",
      "[[ 6.00000000e+00  3.06161700e+03 -6.00000000e+00 -1.87469973e-13\n",
      "  -3.06161700e+03  0.00000000e+00]\n",
      " [ 3.06161700e+03  5.00000000e+19  3.67394040e-16 -3.06161700e+03\n",
      "  -5.00000000e+19  0.00000000e+00]\n",
      " [-6.00000000e+00  3.67394040e-16  8.00000000e+00  0.00000000e+00\n",
      "   0.00000000e+00  0.00000000e+00]\n",
      " [-1.87469973e-13 -3.06161700e+03  0.00000000e+00  6.00000000e+00\n",
      "   3.06161700e+03  6.00000000e+00]\n",
      " [-3.06161700e+03 -5.00000000e+19  0.00000000e+00  3.06161700e+03\n",
      "   5.00000000e+19 -3.67394040e-16]\n",
      " [ 0.00000000e+00  0.00000000e+00  0.00000000e+00  6.00000000e+00\n",
      "  -3.67394040e-16  8.00000000e+00]]\n"
     ]
    }
   ],
   "source": [
    "mm.Node.clear()\n",
    "mm.Element.clear()\n",
    "\n",
    "node1 = mm.Node(0, 0)\n",
    "node2 = mm.Node(0, 2)\n",
    "\n",
    "elem = mm.Element(node1, node2)\n",
    "\n",
    "section = {}\n",
    "section['EI'] = 4  # Set the flexural stiffness\n",
    "elem.set_section(section)\n",
    "\n",
    "print(\"Transformation Matrix:\")\n",
    "print(elem.T)\n",
    "\n",
    "print(\"\\nStiffness Matrix:\")\n",
    "print(elem.stiffness())"
   ]
  },
  {
   "cell_type": "markdown",
   "id": "fc217b68",
   "metadata": {},
   "source": [
    "> ### Task 2.4\n",
    ">\n",
    ">Now, create an element rotated $120 \\degree$ with length $2$ and print the transformation matrix.\n",
    ">\n",
    ">Does it match with what you'd expect?"
   ]
  },
  {
   "cell_type": "code",
   "execution_count": 285,
   "id": "d8f52162",
   "metadata": {},
   "outputs": [
    {
     "name": "stdout",
     "output_type": "stream",
     "text": [
      "Transformation Matrix for 120° Rotation:\n",
      "[[-0.5        0.8660254  0.         0.         0.         0.       ]\n",
      " [-0.8660254 -0.5        0.         0.         0.         0.       ]\n",
      " [ 0.         0.         1.         0.         0.         0.       ]\n",
      " [ 0.         0.         0.        -0.5        0.8660254  0.       ]\n",
      " [ 0.         0.         0.        -0.8660254 -0.5        0.       ]\n",
      " [ 0.         0.         0.         0.         0.         1.       ]]\n"
     ]
    }
   ],
   "source": [
    "import numpy as np\n",
    "import matrixmethod as mm\n",
    "\n",
    "mm.Node.clear()\n",
    "mm.Element.clear()\n",
    "\n",
    "node1 = mm.Node(0, 0)\n",
    "node2 = mm.Node(2, 0)\n",
    "\n",
    "elem = mm.Element(node1, node2)\n",
    "\n",
    "section = {}\n",
    "section['EI'] = 4  # Set the flexural stiffness\n",
    "elem.set_section(section)\n",
    "\n",
    "alpha = 2 * np.pi / 3  # 120 degrees in radians\n",
    "\n",
    "T = np.zeros((6, 6))\n",
    "\n",
    "# For 120° rotation, the transformation matrix for a 2D beam element\n",
    "T[0, 0] = T[1, 1] = T[3, 3] = T[4, 4] = np.cos(alpha)\n",
    "T[0, 1] = T[3, 4] = np.sin(alpha)\n",
    "T[1, 0] = T[4, 3] = - np.sin(alpha)\n",
    "T[2, 2] = T[5, 5] = 1\n",
    "\n",
    "elem.T = T\n",
    "elem.Tt = np.transpose(T)\n",
    "\n",
    "print(\"Transformation Matrix for 120° Rotation:\")\n",
    "print(elem.T)\n"
   ]
  },
  {
   "cell_type": "markdown",
   "id": "3376aa03",
   "metadata": {},
   "source": [
    "OR"
   ]
  },
  {
   "cell_type": "code",
   "execution_count": 286,
   "id": "907e1871",
   "metadata": {},
   "outputs": [
    {
     "name": "stdout",
     "output_type": "stream",
     "text": [
      "Element connecting:\n",
      "node #1:\n",
      " This node has:\n",
      " - x coordinate=0,\n",
      " - z coordinate=0,\n",
      " - degrees of freedom=[0, 1, 2],\n",
      " - load vector=[0. 0. 0.]\n",
      "with node #2:\n",
      " This node has:\n",
      " - x coordinate=-1,\n",
      " - z coordinate=-1.7320508075688772,\n",
      " - degrees of freedom=[3, 4, 5],\n",
      " - load vector=[0. 0. 0.]\n",
      "[[-0.5       -0.8660254  0.         0.         0.         0.       ]\n",
      " [ 0.8660254 -0.5        0.         0.         0.         0.       ]\n",
      " [ 0.         0.         1.         0.         0.         0.       ]\n",
      " [ 0.         0.         0.        -0.5       -0.8660254  0.       ]\n",
      " [ 0.         0.         0.         0.8660254 -0.5        0.       ]\n",
      " [ 0.         0.         0.         0.         0.         1.       ]]\n"
     ]
    }
   ],
   "source": [
    "mm.Node.clear()\n",
    "mm.Element.clear()\n",
    "\n",
    "node1 = mm.Node(0,0)\n",
    "node2 = mm.Node(-1,-np.sqrt(3))\n",
    "elem = mm.Element ( node1, node2 )\n",
    "\n",
    "print(elem)\n",
    "print(elem.T)"
   ]
  },
  {
   "cell_type": "markdown",
   "id": "21ee1ec3",
   "metadata": {},
   "source": [
    "> ### Task 2.5\n",
    ">\n",
    ">Now, create an element rotated $60 \\degree$ with length $2$ and print the transformation matrix.\n",
    ">\n",
    ">Does it match with what you'd expect?"
   ]
  },
  {
   "cell_type": "code",
   "execution_count": 287,
   "id": "eca0a1a6",
   "metadata": {},
   "outputs": [
    {
     "name": "stdout",
     "output_type": "stream",
     "text": [
      "Transformation Matrix for 120° Rotation:\n",
      "[[ 0.5        0.8660254  0.         0.         0.         0.       ]\n",
      " [-0.8660254  0.5        0.         0.         0.         0.       ]\n",
      " [ 0.         0.         1.         0.         0.         0.       ]\n",
      " [ 0.         0.         0.         0.5        0.8660254  0.       ]\n",
      " [ 0.         0.         0.        -0.8660254  0.5        0.       ]\n",
      " [ 0.         0.         0.         0.         0.         1.       ]]\n"
     ]
    }
   ],
   "source": [
    "mm.Node.clear()\n",
    "mm.Element.clear()\n",
    "\n",
    "node1 = mm.Node(0, 0)\n",
    "node2 = mm.Node(2, 0)\n",
    "\n",
    "elem = mm.Element(node1, node2)\n",
    "\n",
    "section = {}\n",
    "section['EI'] = 4  # Set the flexural stiffness\n",
    "elem.set_section(section)\n",
    "\n",
    "alpha = np.pi / 3  \n",
    "\n",
    "T = np.zeros((6, 6))\n",
    "\n",
    "T[0, 0] = T[1, 1] = T[3, 3] = T[4, 4] = np.cos(alpha)\n",
    "T[0, 1] = T[3, 4] = np.sin(alpha)\n",
    "T[1, 0] = T[4, 3] = - np.sin(alpha)\n",
    "T[2, 2] = T[5, 5] = 1 \n",
    "\n",
    "elem.T = T\n",
    "elem.Tt = np.transpose(T)\n",
    "\n",
    "print(\"Transformation Matrix for 120° Rotation:\")\n",
    "print(elem.T)\n"
   ]
  },
  {
   "cell_type": "markdown",
   "id": "e497a657",
   "metadata": {},
   "source": [
    "OR"
   ]
  },
  {
   "cell_type": "code",
   "execution_count": 288,
   "id": "409b42cb",
   "metadata": {},
   "outputs": [
    {
     "name": "stdout",
     "output_type": "stream",
     "text": [
      "Element connecting:\n",
      "node #1:\n",
      " This node has:\n",
      " - x coordinate=0,\n",
      " - z coordinate=0,\n",
      " - degrees of freedom=[0, 1, 2],\n",
      " - load vector=[0. 0. 0.]\n",
      "with node #2:\n",
      " This node has:\n",
      " - x coordinate=1,\n",
      " - z coordinate=-1.7320508075688772,\n",
      " - degrees of freedom=[3, 4, 5],\n",
      " - load vector=[0. 0. 0.]\n",
      "[[ 0.5       -0.8660254  0.         0.         0.         0.       ]\n",
      " [ 0.8660254  0.5        0.         0.         0.         0.       ]\n",
      " [ 0.         0.         1.         0.         0.         0.       ]\n",
      " [ 0.         0.         0.         0.5       -0.8660254  0.       ]\n",
      " [ 0.         0.         0.         0.8660254  0.5        0.       ]\n",
      " [ 0.         0.         0.         0.         0.         1.       ]]\n"
     ]
    }
   ],
   "source": [
    "mm.Node.clear()\n",
    "mm.Element.clear()\n",
    "\n",
    "node1 = mm.Node(0,0)\n",
    "node2 = mm.Node(1,-np.sqrt(3))\n",
    "elem = mm.Element ( node1, node2 )\n",
    "\n",
    "print(elem)\n",
    "print(elem.T)"
   ]
  },
  {
   "cell_type": "markdown",
   "id": "5cfbb503",
   "metadata": {},
   "source": [
    "> ### Task 2.6\n",
    "> \n",
    "> For the previous element, a global displacement vector $\\mathbf{u}^{(e)} = \\begin{bmatrix} 0 \\\\0 \\\\ 0 \\\\ \\sqrt{3} \\\\ 1 \\\\ 0 \\end{bmatrix}$ is given. What would be displacement vector $\\mathbf{u}^{(e)}$?\n",
    ">\n",
    "> Check your answer using pen and paper. Tip: make a drawing instead of doing all the algebra.\n"
   ]
  },
  {
   "cell_type": "code",
   "execution_count": 289,
   "id": "6b1d4c66",
   "metadata": {},
   "outputs": [
    {
     "name": "stdout",
     "output_type": "stream",
     "text": [
      "Local Displacement Vector (u^(l)):\n",
      "[0.00000000e+00 0.00000000e+00 0.00000000e+00 2.22044605e-16\n",
      " 2.00000000e+00 0.00000000e+00]\n"
     ]
    }
   ],
   "source": [
    "import numpy as np\n",
    "import matrixmethod as mm\n",
    "\n",
    "mm.Node.clear()\n",
    "mm.Element.clear()\n",
    "\n",
    "node1 = mm.Node(0, 0)\n",
    "node2 = mm.Node(2, 0)\n",
    "\n",
    "elem = mm.Element(node1, node2)\n",
    "\n",
    "section = {}\n",
    "section['EI'] = 4  # Set the flexural stiffness\n",
    "elem.set_section(section)\n",
    "\n",
    "alpha = np.pi / 3  # 60 degrees in radians\n",
    "\n",
    "T = np.zeros((6, 6))\n",
    "\n",
    "T[0, 0] = T[1, 1] = T[3, 3] = T[4, 4] = np.cos(alpha)\n",
    "T[0, 1] = T[3, 4] = np.sin(alpha)\n",
    "T[1, 0] = T[4, 3] = - np.sin(alpha)\n",
    "T[2, 2] = T[5, 5] = 1 \n",
    "\n",
    "elem.T = T\n",
    "elem.Tt = np.transpose(T)\n",
    "\n",
    "u_global = np.array([0, 0, 0, np.sqrt(3), 1, 0])\n",
    "\n",
    "u_local = np.dot(np.transpose(T), u_global)\n",
    "\n",
    "print(\"Local Displacement Vector (u^(l)):\")\n",
    "print(u_local)\n"
   ]
  },
  {
   "cell_type": "markdown",
   "id": "c3405d21",
   "metadata": {},
   "source": [
    "OR"
   ]
  },
  {
   "cell_type": "code",
   "execution_count": 290,
   "id": "e2735f44",
   "metadata": {},
   "outputs": [
    {
     "name": "stdout",
     "output_type": "stream",
     "text": [
      "[ 0.          0.          0.          1.73205081 -1.          0.        ]\n"
     ]
    }
   ],
   "source": [
    "print(np.matmul(elem.T,np.array([0,0,0,np.sqrt(3),1,0])))"
   ]
  },
  {
   "cell_type": "markdown",
   "id": "617ebc19-9b4c-4528-9a46-4643b4c248b5",
   "metadata": {},
   "source": [
    "## 3. The Constrainer class\n",
    "This class is stored in `./matrixmethod/constrainer.py`\n",
    "\n",
    "This small class keeps track of which DOFs have prescribed displacements and takes care of applying these constraints to the global $\\mathbf{K}$ and $\\mathbf{f}$. For now we keep it simple and assume all constraints fix the DOF values to zero. Next week we will deal with non-zero prescribed values. \n",
    "\n",
    "However, the implementation is incomplete:\n",
    "- The `constrain` function is incomplete, which should mimic the process of striking rows/columns of constrained DOFs and reduce the size of the system to be solved. Remember that `Constrainer` stores which DOFs are constrained in `self.dofs`, so **all the others** should be free. After gathering the free DOFs in an array, you will need to select the correct blocks of $\\mathbf{K}$ and $\\mathbf{f}$. For the stiffness matrix you will need the `np.ix_()` helper function (check its documentation [here](https://numpy.org/doc/stable/reference/generated/numpy.ix_.html))\n",
    "- We keep the function which calculates supports reaction untouched for this week. Next week we'll implement that one as well."
   ]
  },
  {
   "cell_type": "markdown",
   "id": "dc485b61",
   "metadata": {},
   "source": [
    "> ### Task 3.1\n",
    "> Add the missing pieces to the code, before you perform the check below"
   ]
  },
  {
   "cell_type": "markdown",
   "id": "f2dc6ee9",
   "metadata": {},
   "source": [
    "> ### Task 3.2\n",
    "> \n",
    "> Take the inclined element of task 2.5 and a bending stiffness of $1$. What happens if you invert $\\mathbf{K}$? Now fix all degrees of freedom of the first node. What happens when you invert your 'constrained' $\\mathbf{K}$? Are the dimensions of the 'constrained' $\\mathbf{K}$ correct?"
   ]
  },
  {
   "cell_type": "code",
   "execution_count": 291,
   "id": "b2c68706",
   "metadata": {},
   "outputs": [
    {
     "name": "stdout",
     "output_type": "stream",
     "text": [
      "stiffness matrix (K):\n",
      "[[ 1.25000000e+19  2.16506351e+19 -1.29903811e+00 -1.25000000e+19\n",
      "  -2.16506351e+19  0.00000000e+00]\n",
      " [ 2.16506351e+19  3.75000000e+19  7.50000000e-01 -2.16506351e+19\n",
      "  -3.75000000e+19  0.00000000e+00]\n",
      " [-1.29903811e+00  7.50000000e-01  2.00000000e+00  0.00000000e+00\n",
      "   0.00000000e+00  0.00000000e+00]\n",
      " [-1.25000000e+19 -2.16506351e+19  0.00000000e+00  1.25000000e+19\n",
      "   2.16506351e+19  1.29903811e+00]\n",
      " [-2.16506351e+19 -3.75000000e+19  0.00000000e+00  2.16506351e+19\n",
      "   3.75000000e+19 -7.50000000e-01]\n",
      " [ 0.00000000e+00  0.00000000e+00  0.00000000e+00  1.29903811e+00\n",
      "  -7.50000000e-01  2.00000000e+00]]\n",
      "\n",
      "Inverse of the Stiffness Matrix (K_inv):\n",
      "[[ 6.80125019e+15  1.17801109e+16 -4.63210897e-01  6.80125019e+15\n",
      "   1.17801109e+16 -7.53190508e-03]\n",
      " [ 1.74807698e+16  3.02775815e+16 -5.23537933e-01  1.74807698e+16\n",
      "   3.02775815e+16 -6.85671948e-01]\n",
      " [-2.13774711e+15 -3.70268661e+15  3.95462422e-01 -2.13774711e+15\n",
      "  -3.70268661e+15  2.52234865e-01]\n",
      " [ 1.17381657e+16  2.03310993e+16 -7.99141970e-01  1.17381657e+16\n",
      "   2.03310993e+16 -1.26931042e-02]\n",
      " [ 1.46304404e+16  2.53406660e+16 -3.29588037e-01  1.46304404e+16\n",
      "   2.53406660e+16 -6.82692129e-01]\n",
      " [-2.13774711e+15 -3.70268661e+15  3.95462422e-01 -2.13774711e+15\n",
      "  -3.70268661e+15  2.52234865e-01]]\n",
      "\n",
      "Constrained Stiffness Matrix (Kff):\n",
      "[[ 1.25000000e+19  2.16506351e+19  1.29903811e+00]\n",
      " [ 2.16506351e+19  3.75000000e+19 -7.50000000e-01]\n",
      " [ 1.29903811e+00 -7.50000000e-01  2.00000000e+00]]\n",
      "\n",
      "Shape of the Reduced Stiffness Matrix (K_ff): (3, 3)\n"
     ]
    }
   ],
   "source": [
    "\n",
    "mm.Node.clear()\n",
    "mm.Element.clear()\n",
    "\n",
    "node1 = mm.Node(0, 0)\n",
    "node2 = mm.Node(2, 0)\n",
    "\n",
    "elem = mm.Element(node1, node2)\n",
    "\n",
    "section = {}\n",
    "section['EI'] = 1  \n",
    "elem.set_section(section)\n",
    "\n",
    "alpha = np.pi / 3  \n",
    "\n",
    "T = np.zeros((6, 6))\n",
    "\n",
    "T[0, 0] = T[1, 1] = T[3, 3] = T[4, 4] = np.cos(alpha)\n",
    "T[0, 1] = T[3, 4] = np.sin(alpha)\n",
    "T[1, 0] = T[4, 3] = - np.sin(alpha)\n",
    "T[2, 2] = T[5, 5] = 1 \n",
    "\n",
    "elem.T = T\n",
    "elem.Tt = np.transpose(T)\n",
    "\n",
    "K = elem.stiffness()\n",
    "\n",
    "print(\"stiffness matrix (K):\")\n",
    "print(K)\n",
    "\n",
    "try:\n",
    "    K_inv = np.linalg.inv(K)\n",
    "    print(\"\\nInverse of the Stiffness Matrix (K_inv):\")\n",
    "    print(K_inv)\n",
    "except np.linalg.LinAlgError:\n",
    "    print(\"\\nError: The stiffness matrix is singular and cannot be inverted.\")\n",
    "\n",
    "con = mm.Constrainer()\n",
    "con.fix_node(node1)\n",
    "f = np.zeros(6)\n",
    "\n",
    "Kff, Fff = con.constrain(k=K, f=f)\n",
    "\n",
    "print(\"\\nConstrained Stiffness Matrix (Kff):\")\n",
    "print(Kff)\n",
    "\n",
    "print(\"\\nShape of the Reduced Stiffness Matrix (K_ff):\", np.shape(Kff))\n"
   ]
  },
  {
   "cell_type": "markdown",
   "id": "eb9a0160",
   "metadata": {},
   "source": [
    "WHAT THEY WANTED"
   ]
  },
  {
   "cell_type": "code",
   "execution_count": 292,
   "id": "3b037d1b",
   "metadata": {},
   "outputs": [
    {
     "name": "stdout",
     "output_type": "stream",
     "text": [
      "This constrainer has constrained the degrees of freedom: [0, 1, 2] with corresponding constrained values: [0, 0, 0])\n",
      "(3, 3)\n"
     ]
    }
   ],
   "source": [
    "section = {}\n",
    "section['EI'] = 1\n",
    "elem.set_section (section)\n",
    "\n",
    "k = elem.stiffness()\n",
    "#print(np.linalg.inv(k))\n",
    "\n",
    "con = mm.Constrainer()\n",
    "\n",
    "con.fix_node (node1)\n",
    "\n",
    "print(con)\n",
    "\n",
    "f = np.zeros (6) #empty load vector\n",
    "Kff, Fff = con.constrain( k, f )\n",
    "print(np.shape(np.linalg.inv(Kff)))"
   ]
  },
  {
   "cell_type": "markdown",
   "id": "f533d95e-9d5a-41ff-ad97-6ddb878fa8ba",
   "metadata": {},
   "source": [
    "## 4. Full implementation extension bar\n",
    "\n",
    "Having made our implementations, we now check them with two simple examples that serve as sanity checks. The first is a simple bar undergoing extension:"
   ]
  },
  {
   "cell_type": "markdown",
   "id": "6b362653-7297-4186-b8ff-b472e7a962be",
   "metadata": {},
   "source": [
    "<center><figure>\n",
    "  <IMG SRC=\"https://raw.githubusercontent.com/ibcmrocha/public/main/extpointload.png\" WIDTH=200 ALIGN=\"center\">\n",
    "      </figure></center>\n",
    "\n",
    "With $EA = 1000$, $F = 100$ and $L = 1$."
   ]
  },
  {
   "cell_type": "markdown",
   "id": "b55b9565-c5c5-4d3c-8170-9075bfc33b3c",
   "metadata": {},
   "source": [
    "Use the code blocks below to set up and solve this problem using the classes above. The steps to follow are outlined below and short explanations/hints are given. Once you have a solution for the horizontal displacement of the node at the right end of the bar, compare it to the analytical solution you obtained in the first half of the course."
   ]
  },
  {
   "cell_type": "code",
   "execution_count": 293,
   "id": "dd462385-94f2-4240-9ba2-0bd9fe68ba3c",
   "metadata": {},
   "outputs": [],
   "source": [
    "mm.Node.clear()\n",
    "mm.Element.clear()"
   ]
  },
  {
   "cell_type": "markdown",
   "id": "46936274-8e81-41c9-997a-2b7549220811",
   "metadata": {},
   "source": [
    "> ### Task 4.1: \n",
    "> \n",
    "> Create two nodes here. You can store them on a `list` or simply create them as two separate objects (*e.g.* `node1` and `node2`). "
   ]
  },
  {
   "cell_type": "code",
   "execution_count": 294,
   "id": "0ca6c018-0f98-4769-892c-cfdba0fea635",
   "metadata": {},
   "outputs": [
    {
     "name": "stdout",
     "output_type": "stream",
     "text": [
      "Node 1: This node has:\n",
      " - x coordinate=0,\n",
      " - z coordinate=0,\n",
      " - degrees of freedom=[0, 1, 2],\n",
      " - load vector=[0. 0. 0.]\n",
      "Node 2: This node has:\n",
      " - x coordinate=1,\n",
      " - z coordinate=0,\n",
      " - degrees of freedom=[3, 4, 5],\n",
      " - load vector=[0. 0. 0.]\n"
     ]
    }
   ],
   "source": [
    "node1 = mm.Node(0, 0)  # Node 1 at the left end (x=0)\n",
    "node2 = mm.Node(1, 0)  # Node 2 at the right end (x=1)\n",
    "\n",
    "nodes = [node1, node2]\n",
    "\n",
    "print(\"Node 1:\", node1)\n",
    "print(\"Node 2:\", node2)\n"
   ]
  },
  {
   "cell_type": "markdown",
   "id": "6e9d9982-47ec-481f-bf5c-8075f5d935c6",
   "metadata": {},
   "source": [
    "> ### Task 4.2\n",
    "> \n",
    "> Here we only have a single element, so there is no need to store it in a `list` yet. You are also going to need a `dict` defining the cross-section of the element."
   ]
  },
  {
   "cell_type": "code",
   "execution_count": 295,
   "id": "e1f2c0b6-983d-4deb-b4da-e264aa2b89b7",
   "metadata": {},
   "outputs": [
    {
     "name": "stdout",
     "output_type": "stream",
     "text": [
      "Element connecting Node 1 and Node 2:\n",
      "Element connecting:\n",
      "node #1:\n",
      " This node has:\n",
      " - x coordinate=0,\n",
      " - z coordinate=0,\n",
      " - degrees of freedom=[0, 1, 2],\n",
      " - load vector=[0. 0. 0.]\n",
      "with node #2:\n",
      " This node has:\n",
      " - x coordinate=1,\n",
      " - z coordinate=0,\n",
      " - degrees of freedom=[3, 4, 5],\n",
      " - load vector=[0. 0. 0.]\n",
      "\n",
      "Section properties (EA):\n",
      "{'EA': 1000}\n"
     ]
    }
   ],
   "source": [
    "elem = mm.Element(node1, node2)\n",
    "\n",
    "section = {}\n",
    "section['EA'] = 1000 \n",
    "elem.set_section(section)\n",
    "\n",
    "print(\"Element connecting Node 1 and Node 2:\")\n",
    "print(elem)\n",
    "print(\"\\nSection properties (EA):\")\n",
    "print(section)\n"
   ]
  },
  {
   "cell_type": "markdown",
   "id": "fe4eaa08-3987-49cf-b4d1-8912c2a03cc3",
   "metadata": {},
   "source": [
    "> ### Task 4.3\n",
    "> \n",
    "> Let's define the boundary conditions. We create an instance of the `Constrainer` class to deal with prescribed displacements. Take a look at its functions and inform if Node 1 is fully fixed.\n",
    "> You also need to pass the load $F$ on to Node 2. Check the member functions of `Node` to infer how that should be done."
   ]
  },
  {
   "cell_type": "code",
   "execution_count": 296,
   "id": "6519786e-e29a-40eb-b0c4-dc4799eca0d3",
   "metadata": {},
   "outputs": [
    {
     "name": "stdout",
     "output_type": "stream",
     "text": [
      "Node 1 load vector:\n",
      "[0. 0. 0.]\n",
      "Node 2 load vector:\n",
      "[100.   0.   0.]\n",
      "\n",
      "Node 1's degrees of freedom (fixed):\n",
      "[0, 1, 2]\n"
     ]
    }
   ],
   "source": [
    "con = mm.Constrainer()\n",
    "con.fix_node(node1)\n",
    "\n",
    "F = 100\n",
    "node2.add_load(np.array([F, 0, 0]))  \n",
    "\n",
    "print(\"Node 1 load vector:\")\n",
    "print(node1.p)\n",
    "\n",
    "print(\"Node 2 load vector:\")\n",
    "print(node2.p)\n",
    "\n",
    "print(\"\\nNode 1's degrees of freedom (fixed):\")\n",
    "print(node1.dofs)\n",
    "\n"
   ]
  },
  {
   "cell_type": "markdown",
   "id": "520ca9f3-1be7-4ed8-a653-92ccbda4d2af",
   "metadata": {},
   "source": [
    "> ### Task 4.4\n",
    "> \n",
    "> Now assemble the global stiffness matrix and force vector. Since we only have one element, there is no real assembly to be performed other than getting the stiffness matrix of the single element and storing the load at Node 2 in the correct positions of $\\mathbf{f}$."
   ]
  },
  {
   "cell_type": "code",
   "execution_count": 297,
   "id": "fbb91539-ff16-4acf-8d91-546e2f7c77fa",
   "metadata": {},
   "outputs": [
    {
     "name": "stdout",
     "output_type": "stream",
     "text": [
      "Global Stiffness Matrix (K):\n",
      "[[ 1.0e+03  0.0e+00  0.0e+00 -1.0e+03  0.0e+00  0.0e+00]\n",
      " [ 0.0e+00  1.2e+21  6.0e+20  0.0e+00  0.0e+00  0.0e+00]\n",
      " [ 0.0e+00  6.0e+20  4.0e+20  0.0e+00  0.0e+00  0.0e+00]\n",
      " [-1.0e+03  0.0e+00  0.0e+00  1.0e+03  0.0e+00  0.0e+00]\n",
      " [ 0.0e+00  0.0e+00  0.0e+00  0.0e+00  1.2e+21 -6.0e+20]\n",
      " [ 0.0e+00  0.0e+00  0.0e+00  0.0e+00 -6.0e+20  4.0e+20]]\n",
      "\n",
      "Global Force Vector (f):\n",
      "[  0.   0.   0. 100.   0.   0.]\n"
     ]
    }
   ],
   "source": [
    "K = elem.stiffness()\n",
    "\n",
    "f_global = np.zeros(6)\n",
    "\n",
    "f_global[3] = F \n",
    "\n",
    "print(\"Global Stiffness Matrix (K):\")\n",
    "print(K)\n",
    "\n",
    "print(\"\\nGlobal Force Vector (f):\")\n",
    "print(f_global)\n"
   ]
  },
  {
   "cell_type": "markdown",
   "id": "3d3feaf9",
   "metadata": {},
   "source": [
    "ACTUAL"
   ]
  },
  {
   "cell_type": "code",
   "execution_count": 298,
   "id": "99845fc0",
   "metadata": {},
   "outputs": [],
   "source": [
    "global_k = elem.stiffness()\n",
    "global_f = np.zeros (6)\n",
    "\n",
    "global_f[3:6] = node2.p"
   ]
  },
  {
   "cell_type": "markdown",
   "id": "75e1e140-e2ea-4eb7-a019-1a21fda06bfe",
   "metadata": {},
   "source": [
    "> ### Task 4.5\n",
    "> \n",
    "> Constrain the problem and solve for nodal displacements"
   ]
  },
  {
   "cell_type": "code",
   "execution_count": 299,
   "id": "0d5351ad-7c75-4e5e-bcf2-e1b78c89379d",
   "metadata": {},
   "outputs": [
    {
     "name": "stdout",
     "output_type": "stream",
     "text": [
      "\n",
      "Reduced Stiffness Matrix (Kff):\n",
      "[[ 1.0e+03  0.0e+00  0.0e+00]\n",
      " [ 0.0e+00  1.2e+21 -6.0e+20]\n",
      " [ 0.0e+00 -6.0e+20  4.0e+20]]\n",
      "\n",
      "Reduced Force Vector (Fff):\n",
      "[100.   0.   0.]\n",
      "\n",
      "Displacements of Free DOFs (u_free):\n",
      "[0.1 0.  0. ]\n",
      "\n",
      "Full Displacement Vector (u_full):\n",
      "[0.  0.  0.  0.1 0.  0. ]\n"
     ]
    }
   ],
   "source": [
    "Kff, Fff = con.constrain(K, f_global)\n",
    "\n",
    "u_free = np.linalg.solve(Kff, Fff)\n",
    "\n",
    "u_full = con.full_disp(u_free)\n",
    "\n",
    "print(\"\\nReduced Stiffness Matrix (Kff):\")\n",
    "print(Kff)\n",
    "\n",
    "print(\"\\nReduced Force Vector (Fff):\")\n",
    "print(Fff)\n",
    "\n",
    "print(\"\\nDisplacements of Free DOFs (u_free):\")\n",
    "print(u_free)\n",
    "\n",
    "print(\"\\nFull Displacement Vector (u_full):\")\n",
    "print(u_full)\n"
   ]
  },
  {
   "cell_type": "markdown",
   "id": "dbc675c4",
   "metadata": {},
   "source": [
    "ACTUAL"
   ]
  },
  {
   "cell_type": "code",
   "execution_count": 300,
   "id": "01eb1b04",
   "metadata": {},
   "outputs": [
    {
     "name": "stdout",
     "output_type": "stream",
     "text": [
      "[0.1 0.  0. ]\n"
     ]
    }
   ],
   "source": [
    "Kff, Ff = con.constrain ( global_k, global_f )\n",
    "u = np.matmul ( np.linalg.inv(Kff), Ff )\n",
    "print(u)"
   ]
  },
  {
   "cell_type": "markdown",
   "id": "a96fac7b-5ad3-495f-8ff7-9b6e41941254",
   "metadata": {},
   "source": [
    "> ### Task 4.6\n",
    "> \n",
    "> Finally, compare the displacement at the end of the bar with the one coming from the ODE solution. Note that since our element is already suitable for frames combining extension and bending, $\\mathbf{u}$ has three entries. Which one is the entry that matters to us here? Did your solutions match? If so, that is a sign your implementation is correct. Can you use the function `full_disp` to obtain a vector of all displacements?"
   ]
  },
  {
   "cell_type": "code",
   "execution_count": 301,
   "id": "8e518f1f",
   "metadata": {},
   "outputs": [
    {
     "name": "stdout",
     "output_type": "stream",
     "text": [
      "\n",
      "Displacements of Free DOFs (u_free):\n",
      "[0.1 0.  0. ]\n",
      "\n",
      "Full Displacement Vector (u_full):\n",
      "[0.  0.  0.  0.1 0.  0. ]\n",
      "\n",
      "Displacement at the end of the bar (Node 2) from the solution: 0.1\n",
      "Analytical solution for displacement at Node 2: 0.1\n",
      "\n",
      "The displacement matches the analytical solution! The implementation is correct.\n"
     ]
    }
   ],
   "source": [
    "u_free = np.linalg.solve(Kff, Fff)\n",
    "\n",
    "print(\"\\nDisplacements of Free DOFs (u_free):\")\n",
    "print(u_free)\n",
    "\n",
    "u_full = con.full_disp(u_free)\n",
    "\n",
    "print(\"\\nFull Displacement Vector (u_full):\")\n",
    "print(u_full)\n",
    "\n",
    "displacement_at_end = u_full[3]\n",
    "\n",
    "analytical_solution = 100 * 1 / 1000  # F * L / EA\n",
    "print(\"\\nDisplacement at the end of the bar (Node 2) from the solution:\", displacement_at_end)\n",
    "print(\"Analytical solution for displacement at Node 2:\", analytical_solution)\n",
    "\n",
    "if np.isclose(displacement_at_end, analytical_solution):\n",
    "    print(\"\\nThe displacement matches the analytical solution! The implementation is correct.\")\n",
    "else:\n",
    "    print(\"\\nThe displacement does not match the analytical solution. There might be an issue with the implementation.\")\n"
   ]
  },
  {
   "cell_type": "markdown",
   "id": "09168b44",
   "metadata": {},
   "source": [
    "ACTUAL"
   ]
  },
  {
   "cell_type": "code",
   "execution_count": 302,
   "id": "499fadbc",
   "metadata": {},
   "outputs": [
    {
     "data": {
      "text/plain": [
       "array([0. , 0. , 0. , 0.1, 0. , 0. ])"
      ]
     },
     "execution_count": 302,
     "metadata": {},
     "output_type": "execute_result"
    }
   ],
   "source": [
    "con.full_disp(u)"
   ]
  },
  {
   "cell_type": "markdown",
   "id": "cd2fb53e-14a5-4564-9f1f-4a35cdb34456",
   "metadata": {},
   "source": [
    "## Task 5: Full implementation bending beam\n",
    "\n",
    "In the first example above we tested our model under extension. But that does not really guarantee it will behave correctly in bending. That is the goal of this second sanity check. Let's solve the following problem:\n",
    "\n",
    "<center><figure>\n",
    "  <IMG SRC=\"https://raw.githubusercontent.com/ibcmrocha/public/main/cantilever.png\" WIDTH=200 ALIGN=\"center\">\n",
    "      </figure></center>\n",
    "\n",
    "Choose appropriate values yourself\n",
    "\n",
    "When setting up and solving your model, note that we are now interested in $w$ displacements, our load is now vertical and the cross-section property driving our deformation is now $EI$. Good luck!"
   ]
  },
  {
   "cell_type": "code",
   "execution_count": 303,
   "id": "36f0307e-51a7-45b9-82d9-72e9e03eced2",
   "metadata": {},
   "outputs": [],
   "source": [
    "mm.Node.clear()\n",
    "mm.Element.clear()"
   ]
  },
  {
   "cell_type": "markdown",
   "id": "a5a675e1-20d6-4ccd-a9c3-23229774c760",
   "metadata": {},
   "source": [
    "> ### Task 5.1: Create nodes"
   ]
  },
  {
   "cell_type": "code",
   "execution_count": 304,
   "id": "3f78fa42-1c02-4aae-8f2a-9fb81ea93e74",
   "metadata": {},
   "outputs": [
    {
     "name": "stdout",
     "output_type": "stream",
     "text": [
      "Node 1: This node has:\n",
      " - x coordinate=0,\n",
      " - z coordinate=0,\n",
      " - degrees of freedom=[0, 1, 2],\n",
      " - load vector=[0. 0. 0.]\n",
      "Node 2: This node has:\n",
      " - x coordinate=2,\n",
      " - z coordinate=0,\n",
      " - degrees of freedom=[3, 4, 5],\n",
      " - load vector=[0. 0. 0.]\n"
     ]
    }
   ],
   "source": [
    "node1 = mm.Node(0, 0)\n",
    "node2 = mm.Node(2, 0)\n",
    "\n",
    "nodes = [node1, node2]\n",
    "\n",
    "print(\"Node 1:\", node1)\n",
    "print(\"Node 2:\", node2)\n"
   ]
  },
  {
   "cell_type": "markdown",
   "id": "ca5f4555-0516-499d-8c93-9888ee420c29",
   "metadata": {},
   "source": [
    "> ### Task 5.2: Create element"
   ]
  },
  {
   "cell_type": "code",
   "execution_count": 305,
   "id": "27703dd0-8596-434f-9300-6c81bf7078d7",
   "metadata": {},
   "outputs": [
    {
     "name": "stdout",
     "output_type": "stream",
     "text": [
      "Element connecting Node 1 and Node 2:\n",
      "Element connecting:\n",
      "node #1:\n",
      " This node has:\n",
      " - x coordinate=0,\n",
      " - z coordinate=0,\n",
      " - degrees of freedom=[0, 1, 2],\n",
      " - load vector=[0. 0. 0.]\n",
      "with node #2:\n",
      " This node has:\n",
      " - x coordinate=2,\n",
      " - z coordinate=0,\n",
      " - degrees of freedom=[3, 4, 5],\n",
      " - load vector=[0. 0. 0.]\n",
      "\n",
      "Section properties (EI):\n",
      "{'EI': 4000}\n"
     ]
    }
   ],
   "source": [
    "elem = mm.Element(node1, node2)\n",
    "\n",
    "section = {}\n",
    "section['EI'] = 4000\n",
    "elem.set_section(section)\n",
    "\n",
    "print(\"Element connecting Node 1 and Node 2:\")\n",
    "print(elem)\n",
    "print(\"\\nSection properties (EI):\")\n",
    "print(section)\n"
   ]
  },
  {
   "cell_type": "markdown",
   "id": "8181f477-911d-40c3-975f-0237ea93d6b8",
   "metadata": {},
   "source": [
    "> ### Task 5.3: Set boundary conditions"
   ]
  },
  {
   "cell_type": "code",
   "execution_count": 306,
   "id": "b0174ba8-1060-4bf2-b2cb-fee8b9cd4c80",
   "metadata": {},
   "outputs": [
    {
     "name": "stdout",
     "output_type": "stream",
     "text": [
      "This constrainer has constrained the degrees of freedom: [0, 1, 2] with corresponding constrained values: [0, 0, 0])\n"
     ]
    }
   ],
   "source": [
    "con = mm.Constrainer()\n",
    "con.fix_node(node1)\n",
    "F = 100\n",
    "node2.add_load([0, F, 0])\n",
    "print(con)"
   ]
  },
  {
   "cell_type": "markdown",
   "id": "9653c2cf-e5bb-487f-92cc-111a6daa8f91",
   "metadata": {},
   "source": [
    "> ### Task 5.4: Assemble the system of equations"
   ]
  },
  {
   "cell_type": "code",
   "execution_count": 307,
   "id": "719d70a4-ab68-4a52-a538-ac0440ca7c64",
   "metadata": {},
   "outputs": [],
   "source": [
    "global_k = elem.stiffness()\n",
    "global_f = np.zeros (6)\n",
    "\n",
    "global_f[0:3] = node1.p\n",
    "global_f[3:6] = node2.p"
   ]
  },
  {
   "cell_type": "markdown",
   "id": "7b67f8cf-888d-42c0-802e-be02e4a72ff6",
   "metadata": {},
   "source": [
    "> ### Task 5.5: Constrain the problem and solve for nodal displacements"
   ]
  },
  {
   "cell_type": "code",
   "execution_count": 308,
   "id": "f940d04c-7440-4910-a7b0-d016f6b49548",
   "metadata": {},
   "outputs": [
    {
     "name": "stdout",
     "output_type": "stream",
     "text": [
      "\n",
      "Displacements of Free DOFs (u_free):\n",
      "[0.1 0.  0. ]\n",
      "\n",
      "Full Displacement Vector (u_full):\n",
      "[0.  0.  0.  0.1 0.  0. ]\n"
     ]
    }
   ],
   "source": [
    "Kff, Fff = con.constrain(K, f_global)\n",
    "u_free = np.linalg.solve(Kff, Fff)\n",
    "\n",
    "print(\"\\nDisplacements of Free DOFs (u_free):\")\n",
    "print(u_free)\n",
    "\n",
    "u_full = con.full_disp(u_free)\n",
    "\n",
    "print(\"\\nFull Displacement Vector (u_full):\")\n",
    "print(u_full)\n",
    "\n",
    "displacement_at_end = u_full[4]"
   ]
  },
  {
   "cell_type": "markdown",
   "id": "7b673bc1",
   "metadata": {},
   "source": [
    "ACTUAL"
   ]
  },
  {
   "cell_type": "code",
   "execution_count": 309,
   "id": "bda3199e",
   "metadata": {},
   "outputs": [
    {
     "name": "stdout",
     "output_type": "stream",
     "text": [
      "[0.         0.06666667 0.05      ]\n"
     ]
    }
   ],
   "source": [
    "Kff, Ff = con.constrain ( global_k, global_f )\n",
    "u = np.matmul ( np.linalg.inv(Kff), Ff )\n",
    "print(u)"
   ]
  },
  {
   "cell_type": "markdown",
   "id": "e4415f49-fdb5-42ee-ab38-c015ae4171d4",
   "metadata": {},
   "source": [
    "> ### Task 5.6: Check with the analytical solution\n",
    "> \n",
    "> Did your solutions match? If so, your implementation is correct!"
   ]
  },
  {
   "cell_type": "code",
   "execution_count": 310,
   "id": "f83c3cef",
   "metadata": {},
   "outputs": [
    {
     "name": "stdout",
     "output_type": "stream",
     "text": [
      "\n",
      "Vertical Displacement at the end of the beam (Node 2) from the solution: 0.0\n",
      "Analytical solution for vertical displacement at Node 2: 0.06666666666666667\n",
      "\n",
      "The displacement does not match the analytical solution. There might be an issue with the implementation.\n"
     ]
    }
   ],
   "source": [
    "# Analytical solution for displacement due to bending\n",
    "# Using the formula for vertical displacement of a cantilever beam:\n",
    "# w = F * L^3 / (3 * EI)\n",
    "analytical_solution = F * (2 ** 3) / (3 * 4000)\n",
    "\n",
    "print(\"\\nVertical Displacement at the end of the beam (Node 2) from the solution:\", displacement_at_end)\n",
    "print(\"Analytical solution for vertical displacement at Node 2:\", analytical_solution)\n",
    "\n",
    "if np.isclose(displacement_at_end, analytical_solution):\n",
    "    print(\"\\nThe displacement matches the analytical solution! The implementation is correct.\")\n",
    "else:\n",
    "    print(\"\\nThe displacement does not match the analytical solution. There might be an issue with the implementation.\")"
   ]
  }
 ],
 "metadata": {
  "kernelspec": {
   "display_name": "mude-base",
   "language": "python",
   "name": "python3"
  },
  "language_info": {
   "codemirror_mode": {
    "name": "ipython",
    "version": 3
   },
   "file_extension": ".py",
   "mimetype": "text/x-python",
   "name": "python",
   "nbconvert_exporter": "python",
   "pygments_lexer": "ipython3",
   "version": "3.12.4"
  }
 },
 "nbformat": 4,
 "nbformat_minor": 5
}
