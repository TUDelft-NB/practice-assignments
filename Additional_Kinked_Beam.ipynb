{
 "cells": [
  {
   "cell_type": "markdown",
   "metadata": {},
   "source": [
    "# Additional - Kinked beam\n",
    "\n",
    "![](https://raw.githubusercontent.com/ibcmrocha/public/main/newforce.png)\n",
    "\n",
    "With:\n",
    "- $l_1 = 4$\n",
    "- $l_2 = 5$\n",
    "- $l_3 = 3$\n",
    "- $EI = 5000$\n",
    "- $EA = 15000$\n",
    "- $q = 6$\n",
    "- $F = 40$\n",
    "\n",
    "Solve this problem."
   ]
  },
  {
   "cell_type": "code",
   "execution_count": 10,
   "metadata": {},
   "outputs": [],
   "source": [
    "import numpy as np\n",
    "import matplotlib as plt\n",
    "import matrixmethod as mm\n",
    "%config InlineBackend.figure_formats = ['svg']"
   ]
  },
  {
   "cell_type": "code",
   "execution_count": 11,
   "metadata": {},
   "outputs": [
    {
     "name": "stdout",
     "output_type": "stream",
     "text": [
      "The autoreload extension is already loaded. To reload it, use:\n",
      "  %reload_ext autoreload\n"
     ]
    }
   ],
   "source": [
    "%load_ext autoreload\n",
    "%autoreload 2"
   ]
  },
  {
   "cell_type": "code",
   "execution_count": 12,
   "metadata": {},
   "outputs": [
    {
     "name": "stdout",
     "output_type": "stream",
     "text": [
      "[<matrixmethod.elements.Element object at 0x000001E9AE794AA0>, <matrixmethod.elements.Element object at 0x000001E9AFA1F5C0>]\n",
      "This constrainer has constrained the degrees of freedom: [0, 1, 2, 6, 7] with corresponding constrained values: [0, 0, 0, 0, 0])\n",
      "Element connecting:\n",
      "node #1:\n",
      " This node has:\n",
      " - x coordinate=0,\n",
      " - z coordinate=0,\n",
      " - degrees of freedom=[0, 1, 2],\n",
      " - load vector=[0. 0. 0.]\n",
      "with node #2:\n",
      " This node has:\n",
      " - x coordinate=4,\n",
      " - z coordinate=-3,\n",
      " - degrees of freedom=[3, 4, 5],\n",
      " - load vector=[0. 0. 0.]\n",
      "Element connecting:\n",
      "node #1:\n",
      " This node has:\n",
      " - x coordinate=4,\n",
      " - z coordinate=-3,\n",
      " - degrees of freedom=[3, 4, 5],\n",
      " - load vector=[0. 0. 0.]\n",
      "with node #2:\n",
      " This node has:\n",
      " - x coordinate=9,\n",
      " - z coordinate=-3,\n",
      " - degrees of freedom=[6, 7, 8],\n",
      " - load vector=[0. 0. 0.]\n"
     ]
    },
    {
     "ename": "AttributeError",
     "evalue": "'Element' object has no attribute 'add_point_load_halfway'",
     "output_type": "error",
     "traceback": [
      "\u001b[1;31m---------------------------------------------------------------------------\u001b[0m",
      "\u001b[1;31mAttributeError\u001b[0m                            Traceback (most recent call last)",
      "Cell \u001b[1;32mIn[12], line 48\u001b[0m\n\u001b[0;32m     46\u001b[0m nodes[\u001b[38;5;241m1\u001b[39m]\u001b[38;5;241m.\u001b[39madd_load ([\u001b[38;5;241m0\u001b[39m,F,\u001b[38;5;241m0\u001b[39m])\n\u001b[0;32m     47\u001b[0m elems[\u001b[38;5;241m0\u001b[39m]\u001b[38;5;241m.\u001b[39madd_distributed_load([\u001b[38;5;241m0\u001b[39m,q])\n\u001b[1;32m---> 48\u001b[0m elems[\u001b[38;5;241m1\u001b[39m]\u001b[38;5;241m.\u001b[39madd_point_load_halfway(F)\n\u001b[0;32m     50\u001b[0m global_k \u001b[38;5;241m=\u001b[39m np\u001b[38;5;241m.\u001b[39mzeros ((\u001b[38;5;241m3\u001b[39m\u001b[38;5;241m*\u001b[39m\u001b[38;5;28mlen\u001b[39m(nodes), \u001b[38;5;241m3\u001b[39m\u001b[38;5;241m*\u001b[39m\u001b[38;5;28mlen\u001b[39m(nodes)))\n\u001b[0;32m     51\u001b[0m global_f \u001b[38;5;241m=\u001b[39m np\u001b[38;5;241m.\u001b[39mzeros (\u001b[38;5;241m3\u001b[39m\u001b[38;5;241m*\u001b[39m\u001b[38;5;28mlen\u001b[39m(nodes))\n",
      "\u001b[1;31mAttributeError\u001b[0m: 'Element' object has no attribute 'add_point_load_halfway'"
     ]
    }
   ],
   "source": [
    "EI = 5000\n",
    "EA = 15000\n",
    "L1 = 4\n",
    "L2 = 5\n",
    "L3 = 3\n",
    "q = 6   \n",
    "F = 40    \n",
    "\n",
    "mm.Node.clear()\n",
    "mm.Element.clear()\n",
    "\n",
    "nodes = []\n",
    "\n",
    "nodes.append(mm.Node(0,0))\n",
    "nodes.append(mm.Node(L1,-L3))\n",
    "nodes.append(mm.Node(L1+L2,-L3))\n",
    "\n",
    "elems = []\n",
    "\n",
    "elems.append(mm.Element(nodes[0], nodes[1]))\n",
    "elems.append(mm.Element(nodes[1], nodes[2]))\n",
    "\n",
    "beam = {}\n",
    "beam['EI'] = EI\n",
    "beam['EA'] = EA\n",
    "\n",
    "elems[0].set_section (beam)\n",
    "elems[1].set_section (beam)\n",
    "\n",
    "print(elems)\n",
    "\n",
    "con = mm.Constrainer()\n",
    "\n",
    "con.fix_dof (nodes[0], 0)\n",
    "con.fix_dof (nodes[0], 1)\n",
    "con.fix_dof (nodes[0], 2)\n",
    "\n",
    "con.fix_dof (nodes[2], 0)\n",
    "con.fix_dof (nodes[2], 1)\n",
    "\n",
    "print(con)\n",
    "\n",
    "for elem in elems:\n",
    "    print(elem)\n",
    "\n",
    "nodes[1].add_load ([0,F,0])\n",
    "elems[0].add_distributed_load([0,q])\n",
    "elems[1].add_point_load_halfway(F)\n",
    "\n",
    "global_k = np.zeros ((3*len(nodes), 3*len(nodes)))\n",
    "global_f = np.zeros (3*len(nodes))\n",
    "\n",
    "for elem in elems:\n",
    "    elmat = elem.stiffness()\n",
    "    idofs = elem.global_dofs()\n",
    "    \n",
    "    global_k[np.ix_(idofs,idofs)] += elmat\n",
    "\n",
    "for n in nodes:\n",
    "    global_f[n.dofs] += n.p\n",
    "\n",
    "Kff, Ff = con.constrain ( global_k, global_f )\n",
    "u = np.matmul ( np.linalg.inv(Kff), Ff )\n",
    "print(u)\n",
    "\n",
    "print(con.support_reactions(global_k,u,global_f))\n"
   ]
  },
  {
   "cell_type": "code",
   "execution_count": null,
   "metadata": {},
   "outputs": [
    {
     "ename": "AttributeError",
     "evalue": "module 'matrixmethod' has no attribute 'EB_point_load_element'",
     "output_type": "error",
     "traceback": [
      "\u001b[1;31m---------------------------------------------------------------------------\u001b[0m",
      "\u001b[1;31mAttributeError\u001b[0m                            Traceback (most recent call last)",
      "Cell \u001b[1;32mIn[11], line 21\u001b[0m\n\u001b[0;32m     18\u001b[0m elems \u001b[38;5;241m=\u001b[39m []\n\u001b[0;32m     20\u001b[0m elems\u001b[38;5;241m.\u001b[39mappend(mm\u001b[38;5;241m.\u001b[39mElement(nodes[\u001b[38;5;241m0\u001b[39m], nodes[\u001b[38;5;241m1\u001b[39m]))\n\u001b[1;32m---> 21\u001b[0m elems\u001b[38;5;241m.\u001b[39mappend(mm\u001b[38;5;241m.\u001b[39mEB_point_load_element(nodes[\u001b[38;5;241m1\u001b[39m], nodes[\u001b[38;5;241m2\u001b[39m]))\n\u001b[0;32m     23\u001b[0m section \u001b[38;5;241m=\u001b[39m {}\n\u001b[0;32m     24\u001b[0m section[\u001b[38;5;124m'\u001b[39m\u001b[38;5;124mEI\u001b[39m\u001b[38;5;124m'\u001b[39m] \u001b[38;5;241m=\u001b[39m EI\n",
      "\u001b[1;31mAttributeError\u001b[0m: module 'matrixmethod' has no attribute 'EB_point_load_element'"
     ]
    }
   ],
   "source": [
    "mm.Node.clear()\n",
    "mm.Element.clear()\n",
    "\n",
    "l1 = 4\n",
    "l2 = 5\n",
    "l3 = 3\n",
    "EI = 5000\n",
    "q = 6\n",
    "F = 40\n",
    "EA = 15000\n",
    "\n",
    "nodes = []\n",
    "\n",
    "nodes.append(mm.Node(0,0))\n",
    "nodes.append(mm.Node(l1,-l3))\n",
    "nodes.append(mm.Node(l1+l2,-l3))\n",
    "\n",
    "elems = []\n",
    "\n",
    "elems.append(mm.Element(nodes[0], nodes[1]))\n",
    "elems.append(mm.EB_point_load_element(nodes[1], nodes[2]))\n",
    "\n",
    "section = {}\n",
    "section['EI'] = EI\n",
    "section['EA'] = EA\n",
    "elems[0].set_section (section)\n",
    "elems[1].set_section (section)\n",
    "\n",
    "elems[0].add_distributed_load([0,q])\n",
    "elems[1].add_point_load_halfway(F)\n",
    "\n",
    "con = mm.Constrainer()\n",
    "\n",
    "con.fix_node (nodes[0])\n",
    "con.fix_dof (nodes[2], 0)\n",
    "con.fix_dof (nodes[2], 1)\n",
    "\n",
    "nodes[1].add_load ([0,F,0])\n",
    "\n",
    "print(con)\n",
    "for elem in elems:\n",
    "    print(elem)\n",
    "\n",
    "global_k = np.zeros ((3*len(nodes), 3*len(nodes)))\n",
    "global_f = np.zeros (3*len(nodes))\n",
    "\n",
    "for e in elems:\n",
    "    elmat = e.stiffness()\n",
    "    idofs = e.global_dofs()\n",
    "    \n",
    "    global_k[np.ix_(idofs,idofs)] += elmat\n",
    "\n",
    "for n in nodes:\n",
    "    global_f[n.dofs] += n.p\n",
    "\n",
    "Kff, Ff = con.constrain ( global_k, global_f )\n",
    "u = np.matmul ( np.linalg.inv(Kff), Ff )\n",
    "print(u)\n",
    "\n",
    "print(con.support_reactions(global_k,u,global_f))"
   ]
  },
  {
   "cell_type": "code",
   "execution_count": null,
   "metadata": {},
   "outputs": [],
   "source": [
    "for elem in elems:\n",
    "    u_elem = con.full_disp(u)[elem.global_dofs()]\n",
    "    elem.plot_displaced(u_elem,num_points=51,global_c=True,scale=20)"
   ]
  },
  {
   "cell_type": "code",
   "execution_count": null,
   "metadata": {},
   "outputs": [],
   "source": [
    "\n",
    "for elem in elems:\n",
    "    u_elem = con.full_disp(u)[elem.global_dofs()]\n",
    "    elem.plot_moment_diagram(u_elem,num_points=51,global_c=True,scale=0.05)"
   ]
  }
 ],
 "metadata": {
  "kernelspec": {
   "display_name": "mude-base",
   "language": "python",
   "name": "python3"
  },
  "language_info": {
   "codemirror_mode": {
    "name": "ipython",
    "version": 3
   },
   "file_extension": ".py",
   "mimetype": "text/x-python",
   "name": "python",
   "nbconvert_exporter": "python",
   "pygments_lexer": "ipython3",
   "version": "3.12.4"
  }
 },
 "nbformat": 4,
 "nbformat_minor": 2
}
